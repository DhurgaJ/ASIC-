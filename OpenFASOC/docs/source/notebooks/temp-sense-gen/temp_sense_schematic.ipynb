{
 "cells": [
  {
   "cell_type": "markdown",
   "metadata": {
    "id": "gnX3nH1zeDnQ"
   },
   "source": [
    "# Temperature sensor generator configurable schematic from OpenFASOC as code using [Schemdraw](https://schemdraw.readthedocs.io/en/stable/)\n",
    "```\n",
    "Copyright 2022 OpenFASOC team.\n",
    "SPDX-License-Identifier: Apache-2.0\n",
    "```\n"
   ]
  },
  {
   "cell_type": "markdown",
   "metadata": {},
   "source": [
    "<a href=\"https://colab.research.google.com/github/idea-fasoc/OpenFASOC/blob/main/docs/source/notebooks/temp-sense-gen/temp_sense_schematic.ipynb\" target=\"_parent\"><img src=\"https://colab.research.google.com/assets/colab-badge.svg\" alt=\"Open In Colab\"/></a>"
   ]
  },
  {
   "cell_type": "markdown",
   "metadata": {
    "id": "NWJ8RaUkDQvy"
   },
   "source": [
    "## Install Schemdraw"
   ]
  },
  {
   "cell_type": "code",
   "execution_count": null,
   "metadata": {
    "colab": {
     "base_uri": "https://localhost:8080/"
    },
    "id": "94vYvgTikFlr",
    "outputId": "adff753f-1615-409d-e1e8-ba541797e087"
   },
   "outputs": [],
   "source": [
    "!pip install --upgrade pip\n",
    "!pip install schemdraw"
   ]
  },
  {
   "cell_type": "markdown",
   "metadata": {
    "id": "GBJWmaBWDWwM"
   },
   "source": [
    "## Code to draw schematics\n",
    "\n",
    "Code starts here. This notebook uses Schemdraw python package to draw schematics of temperature sensor generator. There are two parameters, n_header and n_inverter, which configure the temperature sensor generator. One can modify it in the last section of this notebook. "
   ]
  },
  {
   "cell_type": "code",
   "execution_count": null,
   "metadata": {
    "id": "gTPF-pi2ky4q"
   },
   "outputs": [],
   "source": [
    "import schemdraw\n",
    "import schemdraw.logic as logic\n",
    "import schemdraw.elements as elm\n",
    "import schemdraw.flow as flow\n",
    "\n",
    "schemdraw.use('svg')"
   ]
  },
  {
   "cell_type": "code",
   "execution_count": null,
   "metadata": {
    "id": "0To29gaRkX8T"
   },
   "outputs": [],
   "source": [
    "#  Splitcontrol level converter \n",
    "def slc():\n",
    "    with schemdraw.Drawing(show=False) as d:\n",
    "        # left half\n",
    "        nfet1 = d.add(elm.NFet().left())\n",
    "        d.move(0, d.unit*(0.5))\n",
    "        pfet1 = d.add(elm.PFet().right())\n",
    "        d += elm.Wire().at(nfet1.source).to(pfet1.drain)\n",
    "        d.move(0, d.unit)\n",
    "        pfet2 = d.add(elm.PFet().right())\n",
    "        d += elm.Wire(\"-|\").at(nfet1.source).to(pfet1.gate)\n",
    "        inb_left = d.add(elm.Dot().at(nfet1.gate).label(\"INB\",\"top\"))\n",
    "\n",
    "        # center\n",
    "        vdd = d.add(elm.Line().right().at(pfet2.source).length(d.unit*0.5))\n",
    "        d += elm.Dot()\n",
    "        d += elm.Vdd().label(\"VDD\",\"top\")\n",
    "        d += elm.Line().right().length(d.unit*0.5)\n",
    "\n",
    "        # right half\n",
    "        d.move(0, d.unit*(-1.0))\n",
    "        nfet2 = d.add(elm.NFet().right())\n",
    "        d.move(0, d.unit*(0.5))\n",
    "        pfet3 = d.add(elm.PFet().left())\n",
    "        d += elm.Wire().at(nfet2.drain).to(pfet3.source)\n",
    "        d.move(0, d.unit*(0.5))\n",
    "        pfet4 = d.add(elm.PFet().left())\n",
    "        d += elm.Wire(\"-|\").at(nfet2.drain).to(pfet3.gate)\n",
    "        in_right= d.add(elm.Dot().at(nfet2.gate).label(\"IN\",\"right\"))\n",
    "\n",
    "        # other connections\n",
    "        d += elm.Wire(\"-\").at(pfet1.gate).to(pfet4.gate)\n",
    "        d += elm.Wire(\"-\").at(pfet2.gate).to(pfet3.gate)\n",
    "\n",
    "        # bottom\n",
    "        d.move(0, d.unit*(-1))\n",
    "        gnd = d.add(elm.Dot())\n",
    "\n",
    "        d += elm.Ground().label(\"GND\",\"bottom\")\n",
    "        d += elm.Wire(\"-|\").to(nfet2.source)\n",
    "        d += elm.Wire(\"-|\").to(nfet1.drain).at(gnd.center)\n",
    "\n",
    "        # inverter\n",
    "        d.move(d.unit*(2.5),0)\n",
    "        d += elm.Ground().label(\"GND\",\"bottom\")\n",
    "        nfet3 = d.add(elm.NFet().left())\n",
    "        pfet5 = d.add(elm.PFet())\n",
    "        d += elm.Vdd().label(\"VDD\",\"top\")\n",
    "        out = d.add(elm.Dot().at(nfet3.source).label(\"OUT\",\"right\"))\n",
    "\n",
    "        # bridge\n",
    "        d += elm.Wire(\"-|\").at(pfet3.source).to(nfet3.gate)\n",
    "        d += elm.Wire(\"-|\").at(pfet3.drain).to(pfet5.gate)\n",
    "\n",
    "        # wiring extensions\n",
    "        d += elm.Line().at(in_right.center).down()\n",
    "        d += elm.Line().left().length(d.unit*(1.9))\n",
    "        d += elm.Line().up().length(d.unit*(0.5))\n",
    "        d += elm.Line().left().length(d.unit*(0.5))\n",
    "        d += elm.Dot().label(\"IN\")\n",
    "\n",
    "        out_line = d.add(elm.Line().at(out.center).right().length(d.unit*(0.5)))\n",
    "        out_dot = d.add(elm.Dot())\n",
    "        d += elm.Line().down().length(d.unit*(1.5))\n",
    "        d += elm.LineDot().at(out_dot.center).right().label(\"CLKOUT\",\"top\")\n",
    "\n",
    "        d += elm.Line().at(inb_left.center).left().length(d.unit*(0.5))\n",
    "\n",
    "\n",
    "        return elm.ElementDrawing(d)\n"
   ]
  },
  {
   "cell_type": "code",
   "execution_count": null,
   "metadata": {
    "id": "2JG_2uZOjjT0"
   },
   "outputs": [],
   "source": [
    "# Header cell - design A\n",
    "# This generates super-cut-off leakage and low RO frequency, which trades off higher quantization noise for \n",
    "# lower power\n",
    "\n",
    "def header_a(n_header):\n",
    "    with schemdraw.Drawing(show=False) as d:\n",
    "        for i in range(0,n_header):\n",
    "            nfet1 = d.add(elm.NFet().left())\n",
    "            d += elm.Ground().at(nfet1.gate)\n",
    "            d.move(d.unit*(0.455),d.unit*(0.25))\n",
    "            nfet2 = d.add(elm.NFet().left())\n",
    "            if (i != (n_header-1)):\n",
    "                d.move(d.unit*(1.0),d.unit*(-1.5))\n",
    "                d += elm.Line().at(nfet2.source).right().length(d.unit*(0.65))\n",
    "            short = d.add(elm.Wire(\"-|\").at(nfet1.gate).to(nfet2.gate))\n",
    "            d.move(d.unit*(1.1),d.unit*(-0.75))\n",
    "            if (i == (n_header-1)):\n",
    "                d.move(d.unit*(-0.645),d.unit*(1))\n",
    "                d += elm.Vdd().label(\"VDD\",\"top\")\n",
    "                d.move(0,d.unit*(-1))\n",
    "                end = d.add(elm.Dot())\n",
    "                d += elm.Line().left().length((n_header-1)*2-0.3)\n",
    "        d += elm.Line().at(end.center).down().length(0.8)\n",
    "        d += elm.Dot().label(\"VDDL\",\"right\")\n",
    "        return elm.ElementDrawing(d)"
   ]
  },
  {
   "cell_type": "code",
   "execution_count": null,
   "metadata": {
    "id": "vjQHCRTelLk-"
   },
   "outputs": [],
   "source": [
    "# Header cell - design B\n",
    "# This generates cut-off leakage and higher RO frequency, which trades off higher power for lower\n",
    "# quantization noise.\n",
    "\n",
    "def header_b(n_header):\n",
    "    with schemdraw.Drawing(show=False) as d:\n",
    "        for i in range(0,n_header):\n",
    "            nfet1 = d.add(elm.NFet().left())\n",
    "            d += elm.Line().at(nfet1.gate).length(d.unit*(0.2)).down()\n",
    "            ptn = d.add(elm.Dot())\n",
    "            d.move(d.unit*(0.455),d.unit*(0.3))\n",
    "            nfet2 = d.add(elm.NFet().left())\n",
    "            d += elm.Wire(\"-|\").at(ptn.center).to(nfet1.drain)\n",
    "            d += elm.Line().down().length(d.unit*(0.1))\n",
    "           \n",
    "            if (i != (n_header-1)):\n",
    "                d += elm.Line().right().length(d.unit*(0.3))\n",
    "                d += elm.Line().right().length(d.unit*(0.5))\n",
    "                d.move(d.unit*(-0.8),d.unit*(0.95))\n",
    "                d += elm.Line().right().length(d.unit*(0.3))\n",
    "                d += elm.Line().right().length(d.unit*(0.5))\n",
    "                d.move(d.unit*(1.0),d.unit*(-1.5))\n",
    "                d += elm.Line().at(nfet2.source).right().length(d.unit*(0.65))\n",
    "            else:\n",
    "                d.move(0,d.unit*(0.95))\n",
    "                d += elm.Vdd().label(\"VDD\",\"top\")\n",
    "            \n",
    "            short = d.add(elm.Wire(\"-|\").at(nfet1.gate).to(nfet2.gate))\n",
    "            if (i != (n_header-1)):\n",
    "                d.move(d.unit*(1.2),d.unit*(-0.6))\n",
    "            else:\n",
    "                d.move(d.unit*(0.45),d.unit*(-0.7))\n",
    "                end = d.add(elm.Dot())\n",
    "\n",
    "        d += elm.Line().at(end.center).down().length(0.8)\n",
    "        d += elm.Dot().label(\"VDDL\").down()\n",
    "        return elm.ElementDrawing(d)   "
   ]
  },
  {
   "cell_type": "code",
   "execution_count": null,
   "metadata": {
    "id": "3S-dXAVglQwX"
   },
   "outputs": [],
   "source": [
    "# Ring Oscillator (RO) works as the temperature sensing element and employ leakage-based temperature dependency.\n",
    "\n",
    "def ring_oscillator(n_inv):\n",
    "    with schemdraw.Drawing(show=False) as d:\n",
    "\n",
    "        #Nand logic\n",
    "        nand = d.add(logic.logic.Nand())\n",
    "        d.move(d.unit*(-0.25),d.unit*(0.17))\n",
    "        d += elm.Line().up().length(d.unit*(0.4))\n",
    "        d += elm.Line().right().length(d.unit*(0.5))\n",
    "\n",
    "        d.move(d.unit*(-0.3),d.unit*(-0.57))\n",
    "        d += elm.Line().right().length(d.unit*(0.5))\n",
    "\n",
    "        # Inverter chain based on the count\n",
    "        for i in range(0,n_inv):\n",
    "            d += logic.logic.Not().right()\n",
    "            d.move(d.unit*(-0.48),d.unit*(0.55))\n",
    "            d += elm.Line().down().length(d.unit*(0.5))\n",
    "\n",
    "            d.move(0,d.unit*(0.52))\n",
    "            d += elm.Line().right().length(d.unit*(0.5))\n",
    "\n",
    "            # connect the power net of Nand to the first inverter\n",
    "            if i == 0:\n",
    "                d.move(d.unit*(-0.3),0)    \n",
    "                d += elm.Line().left().length(d.unit*(1))\n",
    "                d.move(d.unit*(1.3),0)    \n",
    "            d += elm.Line().right().length(d.unit*(0.5))\n",
    "\n",
    "            d.move(d.unit*(-0.51),d.unit*(-0.57))\n",
    "\n",
    "        # Feedback line from the last inverter\n",
    "        feedback = d.add(elm.Line().down().length(d.unit*(0.5)))\n",
    "        d.move(d.unit*(0.5),d.unit*(1.05))\n",
    "\n",
    "        # Connect the power net of last inverter to the prev built inverter chain\n",
    "        d += elm.Line().down().length(d.unit*(0.5))\n",
    "        d.move(d.unit*(-0.5),d.unit*(-0.55))\n",
    "\n",
    "\n",
    "        d.move(0,d.unit*(0.5))\n",
    "\n",
    "        # Last inverter with feedback\n",
    "        LNot = d.add(logic.logic.Not().right())\n",
    "        d.move(0,d.unit*(-0.5))\n",
    "        d += elm.Wire(\"-|\").to(nand.in2)\n",
    "        d += elm.Dot()\n",
    "        return elm.ElementDrawing(d)\n"
   ]
  },
  {
   "cell_type": "markdown",
   "metadata": {
    "id": "Yg-OaMDLEDQ6"
   },
   "source": [
    "### Main code "
   ]
  },
  {
   "cell_type": "code",
   "execution_count": null,
   "metadata": {
    "colab": {
     "base_uri": "https://localhost:8080/",
     "height": 752
    },
    "id": "Jf4PRPqwlWD_",
    "outputId": "73022174-d483-4548-e8a9-3abada422cba"
   },
   "outputs": [],
   "source": [
    "# No of headers and inverters are the varying parameters for the temperature sensor from OpenFASOC\n",
    "n_header=6\n",
    "n_inv=6\n",
    "\n",
    "with schemdraw.Drawing() as d:\n",
    "    header_cell = d.add(header_b(n_header))\n",
    "    d += elm.Line().length(d.unit*(0.9))\n",
    "    d.move(d.unit*(-3.6),d.unit*(-0.58))\n",
    "    \n",
    "    ring_osc_cell = d.add(ring_oscillator(n_inv))\n",
    "    d.move(d.unit*(n_inv+3),d.unit*(-0.165))\n",
    "    slc_cell = d.add(slc())\n",
    "\n",
    "    d.move(d.unit*(2.9),d.unit*(-1.75))\n",
    "\n",
    "    d += elm.LineDot().label(\"rstn\")\n",
    "    d.move(d.unit*(-1),d.unit*(-0.5))\n",
    "    d += elm.LineDot().label(\"clkref\")\n",
    "    d.move(d.unit*(-1),d.unit*(-0.5))\n",
    "    d += elm.LineDot().label(\"config\")\n",
    "    d.move(d.unit*(0),d.unit*(0.5))    \n",
    "    d += flow.flow.Box(w=d.unit*(2.5),h=d.unit*(2)).label(\"Frequency to Digital Counter\")\n",
    "\n",
    "    d += elm.LineDot().label(\"24b dout\")\n",
    "    d.move(d.unit*(-1),d.unit*(-0.5))\n",
    "    d += elm.LineDot().label(\"done\")"
   ]
  }
 ],
 "metadata": {
  "colab": {
   "collapsed_sections": [
    "NWJ8RaUkDQvy",
    "GBJWmaBWDWwM"
   ],
   "provenance": []
  },
  "jupytext": {
   "formats": "ipynb,py:light"
  },
  "kernelspec": {
   "display_name": "Python 3.8.10 64-bit",
   "language": "python",
   "name": "python3"
  },
  "language_info": {
   "codemirror_mode": {
    "name": "ipython",
    "version": 3
   },
   "file_extension": ".py",
   "mimetype": "text/x-python",
   "name": "python",
   "nbconvert_exporter": "python",
   "pygments_lexer": "ipython3",
   "version": "3.8.10"
  },
  "vscode": {
   "interpreter": {
    "hash": "916dbcbb3f70747c44a77c7bcd40155683ae19c65e1c03b4aa3499c5328201f1"
   }
  }
 },
 "nbformat": 4,
 "nbformat_minor": 0
}
